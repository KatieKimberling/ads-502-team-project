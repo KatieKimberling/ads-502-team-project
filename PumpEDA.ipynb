{
 "cells": [
  {
   "cell_type": "markdown",
   "id": "b258a81f-bcee-424d-b685-6c3e0c10ebd3",
   "metadata": {
    "editable": true,
    "slideshow": {
     "slide_type": ""
    },
    "tags": []
   },
   "source": [
    "<div style=\"text-align: center; line-height: 0.2;\">\n",
    "    <h1><b>ADS 502: Introduction to Data Mining</b></h1>\n",
    "    <h1><b>Final Project, Spring 2025</b></h1>\n",
    "    <h2><b>Team One</b></h2>\n",
    "</div>"
   ]
  },
  {
   "cell_type": "markdown",
   "id": "b3389fd9-1488-4434-a1b1-78be095163df",
   "metadata": {},
   "source": [
    "### Team One is\n",
    "    * Mark Villanueva\n",
    "    * Paul Matta\n",
    "    * Katie Kimberling"
   ]
  },
  {
   "cell_type": "markdown",
   "id": "a3049b34-9331-4f1a-9f97-0f9bd405aeaf",
   "metadata": {},
   "source": [
    "## Data and Dataset Overview"
   ]
  },
  {
   "cell_type": "markdown",
   "id": "4e729772-351f-413a-b768-2eb3d606d9ca",
   "metadata": {},
   "source": [
    "### Import necessary libraries"
   ]
  },
  {
   "cell_type": "code",
   "execution_count": null,
   "id": "d73203f9-5f88-4406-a63e-f1d50821433d",
   "metadata": {},
   "outputs": [],
   "source": [
    "import pandas as pd\n",
    "import numpy as np\n",
    "import matplotlib.pyplot as plt\n",
    "import seaborn as sns\n",
    "from sklearn.model_selection import train_test_split\n",
    "from IPython.display import Image \n",
    "import plotly.graph_objects as go\n",
    "from pandas.api.types import is_numeric_dtype\n",
    "import warnings\n",
    "warnings.filterwarnings('ignore')"
   ]
  },
  {
   "cell_type": "markdown",
   "id": "b7401f98-b412-47e5-9148-4bafad367109",
   "metadata": {},
   "source": [
    "### Import the training Tanzania water csv files and obtain overview of all of the attributes and datatypes"
   ]
  },
  {
   "cell_type": "code",
   "execution_count": null,
   "id": "4ca9d72b-a4fe-42f5-b461-59f009712871",
   "metadata": {},
   "outputs": [],
   "source": [
    "pump_train_labels = pd.read_csv(\"https://raw.githubusercontent.com/KatieKimberling/ads-502-team-project/refs/heads/main/Pump_Train_Labels.csv\")\n",
    "print(\"The pump train LABELS dataset contains:\") \n",
    "print(pump_train_labels.describe())\n",
    "pump_train_labels.info()\n",
    "\n",
    "pump_train_values = pd.read_csv(\"https://raw.githubusercontent.com/KatieKimberling/ads-502-team-project/refs/heads/main/Pump_Train_Values.csv\")\n",
    "print(\"The pump train VALUES dataset contains:\") \n",
    "print(pump_train_values.describe())\n",
    "pump_train_values.info()"
   ]
  },
  {
   "cell_type": "markdown",
   "id": "f98c6e33-0678-4130-96a4-3208d779bf1a",
   "metadata": {},
   "source": [
    "### Merge the pump_train_values dataframe with the pump_train_labels dataframe to make one supervised training dataframe"
   ]
  },
  {
   "cell_type": "code",
   "execution_count": null,
   "id": "d0d95e08-f7d6-46cc-9032-619573f7df3e",
   "metadata": {},
   "outputs": [],
   "source": [
    "ptrain = pd.merge(pump_train_values, pump_train_labels, on='id', how='inner')\n",
    "ptrain.head()"
   ]
  },
  {
   "cell_type": "markdown",
   "id": "86f4acdb-18ec-4c1d-9f0a-08201c5e13f5",
   "metadata": {},
   "source": [
    "## Adjust date_recorded column to separate year from month from date"
   ]
  },
  {
   "cell_type": "code",
   "execution_count": null,
   "id": "82420ab6-88f8-43d1-9159-31d3949dae9b",
   "metadata": {},
   "outputs": [],
   "source": [
    "ptrain['date_recorded'] = pd.to_datetime(ptrain['date_recorded'])\n",
    "ptrain['year_recorded'] = ptrain['date_recorded'].dt.year\n",
    "ptrain['month_recorded'] = ptrain['date_recorded'].dt.month\n",
    "\n",
    "ptrain = ptrain.drop(['date_recorded'], axis=1)\n",
    "ptrain.head()"
   ]
  },
  {
   "cell_type": "code",
   "execution_count": null,
   "id": "90f56fc9-8310-4d6e-83dc-e0a0ab5b462f",
   "metadata": {},
   "outputs": [],
   "source": [
    "ptrain['status_group'].value_counts()"
   ]
  },
  {
   "cell_type": "markdown",
   "id": "9dc123a3-7d8e-48b1-a3f6-9fec56f205b4",
   "metadata": {},
   "source": [
    "## Obtain, explore and handle missing values."
   ]
  },
  {
   "cell_type": "markdown",
   "id": "c82395fa-cdb9-4b5d-9bb8-a9fe8285de0a",
   "metadata": {},
   "source": [
    "#### When prompted with \"I want to show a list or grid or visual of how many missing values there are by variable\" the ChatGPT-generated text indicated some of the following code to help me write a function to do so (OpenAI, 2025)."
   ]
  },
  {
   "cell_type": "code",
   "execution_count": null,
   "id": "a6d26c60-a548-42ce-b5bb-f2b7d088310e",
   "metadata": {},
   "outputs": [],
   "source": [
    "# Create function to identify missing values in all variables in dataframe\n",
    "\n",
    "def missing_value_summary(ptrain):\n",
    "        \n",
    "    # Calculate missing values and percentages\n",
    "    \n",
    "    missing_values = ptrain.isnull().sum()\n",
    "    missing_percent = (missing_values / len(ptrain)) * 100\n",
    "    \n",
    "    # Create a summary DataFrame\n",
    "    \n",
    "    missing_summary = pd.DataFrame({\n",
    "        'Missing Values': missing_values,\n",
    "        'Percentage (%)': missing_percent\n",
    "    }).sort_values(by='Missing Values', ascending=False)\n",
    "    \n",
    "    # Filter out variables without any missing values (i.e. only keep in those variables WITH missing values)\n",
    "    \n",
    "    missing_summary = missing_summary[missing_summary['Missing Values'] > 0]\n",
    "    \n",
    "    # Display the summary\n",
    "    \n",
    "    print(missing_summary)\n",
    "\n",
    "    # Plot missing values as a bar chart\n",
    "    \n",
    "    if not missing_summary.empty:\n",
    "        plt.figure(figsize=(10, 6))\n",
    "        missing_summary['Missing Values'].plot(kind='barh', color='green', edgecolor='black')\n",
    "        plt.xlabel(\"Count of Missing Values\")\n",
    "        plt.ylabel(\"Variables\")\n",
    "        plt.title(\"Missing Values by Variable\")\n",
    "        plt.gca().invert_yaxis()  # Invert y-axis for better readability\n",
    "        plt.show()\n",
    "    else:\n",
    "        print(\"No missing values in the dataset!\")\n",
    "\n",
    "    return missing_summary  # Return the summary DataFrame\n",
    "\n",
    "missing_summary = missing_value_summary(ptrain) "
   ]
  },
  {
   "cell_type": "markdown",
   "id": "ed6f7f9c-6676-4a73-8808-603a04ba0afb",
   "metadata": {},
   "source": [
    "## Replace missing values for permit and public_meeting with \"unknown\""
   ]
  },
  {
   "cell_type": "code",
   "execution_count": null,
   "id": "dbdd05a0-8897-4c20-b665-9e4636adcd77",
   "metadata": {},
   "outputs": [],
   "source": [
    "ptrain['permit'] = ptrain['permit'].fillna('unknown')\n",
    "ptrain['public_meeting'] = ptrain['public_meeting'].fillna('unknown')\n",
    "\n",
    "ptrain['permit'].value_counts()"
   ]
  },
  {
   "cell_type": "markdown",
   "id": "6e3007b4-1faf-4a46-b9e3-6484e34a5e38",
   "metadata": {},
   "source": [
    "## Obtain discrete different levels of nominal variables with their counts"
   ]
  },
  {
   "cell_type": "code",
   "execution_count": null,
   "id": "eb6f94c2-28fe-4262-9a6f-8e7ebebe6694",
   "metadata": {},
   "outputs": [],
   "source": [
    "def categorical_unique_counts(ptrain, categorical_vars):\n",
    "     \n",
    "    unique_counts = {col: ptrain[col].nunique() for col in categorical_vars}\n",
    "    unique_counts_ptrain = pd.DataFrame.from_dict(unique_counts, orient='index', columns=['Unique Count'])\n",
    "    \n",
    "    return unique_counts_ptrain\n",
    "\n",
    "categorical_vars = [\"scheme_name\", \"scheme_management\", \"installer\", \"funder\", \"public_meeting\", \"permit\", \"subvillage\", \"wpt_name\", \"status_group\"]\n",
    "unique_counts_summary = categorical_unique_counts(ptrain, categorical_vars)\n",
    "\n",
    "# Display the summary\n",
    "print(unique_counts_summary)"
   ]
  },
  {
   "cell_type": "code",
   "execution_count": null,
   "id": "ee784e47-ddb1-4db6-8249-25d44727fe0f",
   "metadata": {},
   "outputs": [],
   "source": [
    "# Get the top 10 funders\n",
    "top_funders = ptrain['funder'].value_counts().head(10)\n",
    "print(\"Top 10 Funders:\\n\", top_funders)\n",
    "\n",
    "# Get the top 10 installers\n",
    "top_installers = ptrain['installer'].value_counts().head(10)\n",
    "print(\"\\nTop 10 Installers:\\n\", top_installers)\n",
    "\n",
    "# Get the top 10 subvillages\n",
    "top_subvillage = ptrain['subvillage'].value_counts().head(10)\n",
    "print(\"\\nTop 10 Subvillages:\\n\", top_subvillage)\n",
    "\n",
    "# Get the top 10 scheme_names\n",
    "top_scheme_names = ptrain['scheme_name'].value_counts().head(10)\n",
    "print(\"\\nTop 10 Scheme Names:\\n\", top_scheme_names)"
   ]
  },
  {
   "cell_type": "markdown",
   "id": "9cd30847-1794-4aee-abb7-33643e9e10a6",
   "metadata": {},
   "source": [
    "## Replace missing values for funder and installer with \"other\""
   ]
  },
  {
   "cell_type": "code",
   "execution_count": null,
   "id": "471e6f18-e62f-4c44-a200-9353fc9855f7",
   "metadata": {},
   "outputs": [],
   "source": [
    "ptrain['funder'] = ptrain['funder'].fillna('other')\n",
    "ptrain['installer'] = ptrain['installer'].fillna('other')"
   ]
  },
  {
   "cell_type": "code",
   "execution_count": null,
   "id": "74842d0b-d6ff-4131-9d0c-3419d0ae75c5",
   "metadata": {},
   "outputs": [],
   "source": [
    "# Count the occurrences of each category in the scheme_management  column\n",
    "scheme_mgt_counts = ptrain['scheme_management'].value_counts()\n",
    "\n",
    "# Create a horizontal bar chart of scheme_management with the bars colored red\n",
    "plt.barh(scheme_mgt_counts.index, scheme_mgt_counts.values, color=['green'])\n",
    "\n",
    "# Add labels and title\n",
    "plt.ylabel('Scheme Management')\n",
    "plt.xlabel('Counts')\n",
    "plt.title('Bar Chart of Scheme Management')\n",
    "\n",
    "# Show the plot\n",
    "plt.show()"
   ]
  },
  {
   "cell_type": "code",
   "execution_count": null,
   "id": "0766678f-e21b-4844-aa73-930244afff5e",
   "metadata": {},
   "outputs": [],
   "source": [
    "# See if scheme management has different status_group counts\n",
    "crosstab_01=pd.crosstab(ptrain['scheme_management'], ptrain['status_group'])\n",
    "crosstab_01.plot(kind='barh', stacked = True, color=['green', 'yellow', 'red'])\n",
    "plt.title('Bar Chart of Scheme Management with Status Group Overlay')\n",
    "plt.show()"
   ]
  },
  {
   "cell_type": "code",
   "execution_count": null,
   "id": "269a6b99-1c42-4105-a145-15a4fe0d65c7",
   "metadata": {},
   "outputs": [],
   "source": [
    "# Normalized bar graph of \"scheme_management\" with \"status_group\" overlay - best practices is to always show the non-normalized bar plot with the normalized one, and the former is shown above.\n",
    "crosstab_norm = crosstab_01.div(crosstab_01.sum(1), axis=0)\n",
    "crosstab_norm.plot(kind='barh', stacked = True, color=['green', 'yellow', 'red'])\n",
    "plt.title('Normalized Bar Chart of Scheme Management with Status Group Overlay')\n",
    "plt.legend(title=\"Status Group\", bbox_to_anchor=(1.05, 1), loc='upper left')\n",
    "plt.show()"
   ]
  },
  {
   "cell_type": "code",
   "execution_count": null,
   "id": "1c911c93-ff7c-4b22-8676-2d7512848bdb",
   "metadata": {},
   "outputs": [],
   "source": [
    "# Deleting records with missing values for scheme_management\n",
    "ptrain.dropna(subset=[\"scheme_management\"], inplace=True)\n",
    "ptrain.info()"
   ]
  },
  {
   "cell_type": "markdown",
   "id": "a89f1d03-805a-4168-9f09-1e4b36330608",
   "metadata": {},
   "source": [
    "## Examine categorical variables without missing values"
   ]
  },
  {
   "cell_type": "code",
   "execution_count": null,
   "id": "06e6edaa-5206-4ae7-bbf4-a1d937040b23",
   "metadata": {},
   "outputs": [],
   "source": [
    "def cat_unique_counts(ptrain, cat_vars):\n",
    "     \n",
    "    unique_counts = {col: ptrain[col].nunique() for col in cat_vars}\n",
    "    unique_counts_ptrain = pd.DataFrame.from_dict(unique_counts, orient='index', columns=['Unique Count'])\n",
    "    \n",
    "    return unique_counts_ptrain\n",
    "\n",
    "cat_vars = [\"basin\", \"region\", \"lga\", \"ward\", \"extraction_type\", \"extraction_type_group\", \"extraction_type_class\", \"management\", \"management_group\", \"payment\", \"payment_type\", \"water_quality\", \"quality_group\", \"quantity\", \"quantity_group\", \"source\", \"source_type\", \"source_class\", \"waterpoint_type\", \"waterpoint_type_group\"]\n",
    "unique_counts_summary = cat_unique_counts(ptrain, cat_vars)\n",
    "\n",
    "# Display the summary\n",
    "print(unique_counts_summary)"
   ]
  },
  {
   "cell_type": "code",
   "execution_count": null,
   "id": "253861ee-1069-4035-9912-0674ff2891c9",
   "metadata": {},
   "outputs": [],
   "source": [
    "def value_counts_cat_col(ptrain):\n",
    "\n",
    "    for col in ptrain.select_dtypes(include='object').columns:\n",
    "        print(f\"Value counts for column '{col}':\")\n",
    "        print(ptrain[col].value_counts())\n",
    "        print(\"-\" * 20) # Separator for better readability\n",
    "\n",
    "value_counts_cat_col(ptrain)"
   ]
  },
  {
   "cell_type": "code",
   "execution_count": null,
   "id": "30766f14-c65d-4fbd-9a66-7eedec2ac37a",
   "metadata": {},
   "outputs": [],
   "source": [
    "# See if public_meeting has different status_group counts\n",
    "crosstab_02=pd.crosstab(ptrain['public_meeting'], ptrain['status_group'])\n",
    "crosstab_02.plot(kind='barh', stacked = True, color=['green', 'yellow', 'red'])\n",
    "plt.title('Bar Chart of Public Meeting with Status Group Overlay')\n",
    "plt.show()"
   ]
  },
  {
   "cell_type": "code",
   "execution_count": null,
   "id": "8273c7ad-3410-4570-8a29-a54e0e25a3de",
   "metadata": {},
   "outputs": [],
   "source": [
    "# Normalized bar graph of \"public_meeting\" with \"status_group\" overlay\n",
    "crosstab_norm = crosstab_02.div(crosstab_02.sum(1), axis=0)\n",
    "crosstab_norm.plot(kind='barh', stacked = True, color=['green', 'yellow', 'red'])\n",
    "plt.title('Normalized Bar Chart of Public Meeting with Status Group Overlay')\n",
    "plt.legend(title=\"Status Group\", bbox_to_anchor=(1.05, 1), loc='upper left')\n",
    "plt.show()"
   ]
  },
  {
   "cell_type": "code",
   "execution_count": null,
   "id": "f12d7aec-9578-4bf5-9c12-dcd99f98dbc4",
   "metadata": {},
   "outputs": [],
   "source": [
    "# See if permit has different status_group counts\n",
    "crosstab_03=pd.crosstab(ptrain['permit'], ptrain['status_group'])\n",
    "crosstab_03.plot(kind='barh', stacked = True, color=['green', 'yellow', 'red'])\n",
    "plt.title('Bar Chart of Permit with Status Group Overlay')\n",
    "plt.show()"
   ]
  },
  {
   "cell_type": "code",
   "execution_count": null,
   "id": "25df1f7b-89ce-4b3c-adff-842fae81ea08",
   "metadata": {},
   "outputs": [],
   "source": [
    "# Normalized bar graph of \"permit\" with \"status_group\" overlay\n",
    "crosstab_norm = crosstab_03.div(crosstab_03.sum(1), axis=0)\n",
    "crosstab_norm.plot(kind='barh', stacked = True, color=['green', 'yellow', 'red'])\n",
    "plt.title('Normalized Bar Chart of Permit with Status Group Overlay')\n",
    "plt.legend(title=\"Status Group\", bbox_to_anchor=(1.05, 1), loc='upper left')\n",
    "plt.show()"
   ]
  },
  {
   "cell_type": "code",
   "execution_count": null,
   "id": "b373347f-ba73-47a7-9cf1-f570414a0b0b",
   "metadata": {},
   "outputs": [],
   "source": [
    "# See if quantity has different status_group counts\n",
    "crosstab_04=pd.crosstab(ptrain['quantity'], ptrain['status_group'])\n",
    "crosstab_04.plot(kind='barh', stacked = True, color=['green', 'yellow', 'red'])\n",
    "plt.title('Bar Chart of Quantity with Status Group Overlay')\n",
    "plt.show()"
   ]
  },
  {
   "cell_type": "code",
   "execution_count": null,
   "id": "f1cf1cb0-1956-4b58-8236-15d4c1e73e2a",
   "metadata": {},
   "outputs": [],
   "source": [
    "# Normalized bar graph of \"quantity\" with \"status_group\" overlay\n",
    "crosstab_norm = crosstab_04.div(crosstab_04.sum(1), axis=0)\n",
    "crosstab_norm.plot(kind='barh', stacked = True, color=['green', 'yellow', 'red'])\n",
    "plt.title('Normalized Bar Chart of Quantity with Status Group Overlay')\n",
    "plt.legend(title=\"Status Group\", bbox_to_anchor=(1.05, 1), loc='upper left')\n",
    "plt.show()"
   ]
  },
  {
   "cell_type": "code",
   "execution_count": null,
   "id": "153f4e97-34ee-4587-b559-4e994153033b",
   "metadata": {},
   "outputs": [],
   "source": [
    "# See if water quality has different status_group counts\n",
    "crosstab_05=pd.crosstab(ptrain['quality_group'], ptrain['status_group'])\n",
    "crosstab_05.plot(kind='barh', stacked = True, color=['green', 'yellow', 'red'])\n",
    "plt.title('Bar Chart of Water Quality with Status Group Overlay')\n",
    "plt.show()"
   ]
  },
  {
   "cell_type": "code",
   "execution_count": null,
   "id": "9d889641-288a-4eec-9a50-edc8462214a9",
   "metadata": {},
   "outputs": [],
   "source": [
    "# Normalized bar graph of \"quality_group\" with \"status_group\" overlay\n",
    "crosstab_norm = crosstab_05.div(crosstab_05.sum(1), axis=0)\n",
    "crosstab_norm.plot(kind='barh', stacked = True, color=['green', 'yellow', 'red'])\n",
    "plt.title('Normalized Bar Chart of Water Quality Group with Status Group Overlay')\n",
    "plt.legend(title=\"Status Group\", bbox_to_anchor=(1.05, 1), loc='upper left')\n",
    "plt.show()"
   ]
  },
  {
   "cell_type": "code",
   "execution_count": null,
   "id": "b8efddfb-530a-4595-ab5e-e739ef48ddcf",
   "metadata": {},
   "outputs": [],
   "source": [
    "# View basin\n",
    "basin = ptrain['basin'].value_counts().head(9)\n",
    "print(\"Basin:\\n\", basin)\n",
    "\n",
    "# View regions\n",
    "region = ptrain['region'].value_counts().head(21)\n",
    "print(\"\\nRegions:\\n\", region)\n",
    "\n",
    "# Get the top 10 lga\n",
    "top_lga = ptrain['lga'].value_counts().head(10)\n",
    "print(\"\\nTop 10 lga:\\n\", top_lga)\n",
    "\n",
    "# Get the top 10 wards\n",
    "top_ward = ptrain['ward'].value_counts().head(10)\n",
    "print(\"\\nTop 10 Wards:\\n\", top_ward)"
   ]
  },
  {
   "cell_type": "code",
   "execution_count": null,
   "id": "6239c535-32bb-4e4c-9c56-0ec33c8e93d8",
   "metadata": {},
   "outputs": [],
   "source": [
    "# See if basin has different status_group counts\n",
    "crosstab_06=pd.crosstab(ptrain['basin'], ptrain['status_group'])\n",
    "crosstab_06.plot(kind='barh', stacked = True, color=['green', 'yellow', 'red'])\n",
    "plt.title('Bar Chart of Basin with Status Group Overlay')\n",
    "plt.show()"
   ]
  },
  {
   "cell_type": "code",
   "execution_count": null,
   "id": "9feda1da-a4d0-4046-82dd-8c9734f92d39",
   "metadata": {},
   "outputs": [],
   "source": [
    "# Normalized bar graph of \"basin\" with \"status_group\" overlay\n",
    "crosstab_norm = crosstab_06.div(crosstab_06.sum(1), axis=0)\n",
    "crosstab_norm.plot(kind='barh', stacked = True, color=['green', 'yellow', 'red'])\n",
    "plt.title('Normalized Bar Chart of Basin with Status Group Overlay')\n",
    "plt.legend(title=\"Status Group\", bbox_to_anchor=(1.05, 1), loc='upper left')\n",
    "plt.show()"
   ]
  },
  {
   "cell_type": "markdown",
   "id": "3f065a37-e849-45c7-81da-f204d510336f",
   "metadata": {},
   "source": [
    "### Obtain summary statistics of all numeric variables in ptrain dataframe and plot their histograms"
   ]
  },
  {
   "cell_type": "code",
   "execution_count": null,
   "id": "3fadae8d-3b59-4f8b-8481-d02c086c18dc",
   "metadata": {},
   "outputs": [],
   "source": [
    "for col in ptrain.columns:\n",
    "    if is_numeric_dtype(ptrain[col]):\n",
    "        print('%s:' % (col))\n",
    "        print('\\t Mean = %.2f' % ptrain[col].mean())\n",
    "        print('\\t Median = %.2f' % ptrain[col].median())\n",
    "        print('\\t Standard deviation = %.2f' % ptrain[col].std())\n",
    "        print('\\t Minimum = %.2f' % ptrain[col].min())\n",
    "        print('\\t Maximum = %.2f' % ptrain[col].max())\n",
    "        print('\\t Missing value count = %.2f' % ptrain[col].isnull().sum())\n",
    "\n",
    "def plot_numerical_histograms(ptrain):\n",
    "    numerical_cols = ptrain.select_dtypes(include=['number']).columns\n",
    "    ptrain[numerical_cols].hist(figsize = (10,8), color=\"red\")\n",
    "    plt.tight_layout()\n",
    "    plt.show()\n",
    "plot_numerical_histograms(ptrain)"
   ]
  },
  {
   "cell_type": "markdown",
   "id": "c37b5115-fbd0-4bcc-bc8b-4cb8660bcae9",
   "metadata": {},
   "source": [
    "## Calculate the correlation matrix"
   ]
  },
  {
   "cell_type": "code",
   "execution_count": null,
   "id": "c2ecbce7-074c-4abe-9855-c5e72d3ebc03",
   "metadata": {},
   "outputs": [],
   "source": [
    "# Select only numeric columns\n",
    "numeric_df = ptrain.select_dtypes(include=[\"int64\", \"float64\"])\n",
    "\n",
    "# Calculate the correlation matrix\n",
    "corr_matrix = numeric_df.corr(method='pearson')\n",
    "\n",
    "# Visualize the correlation matrix using a heatmap\n",
    "sns.heatmap(corr_matrix, annot=True, cmap='coolwarm', fmt=\".2f\")\n",
    "plt.title('Correlation Matrix')\n",
    "plt.show()"
   ]
  },
  {
   "cell_type": "markdown",
   "id": "c97d6090-6d49-44ff-96fb-bbe91d3f491f",
   "metadata": {},
   "source": [
    "### Raw Box and Whisker Plots of Population by Region (Waskom, 2024)"
   ]
  },
  {
   "cell_type": "code",
   "execution_count": null,
   "id": "06059083-cc10-456a-aa5f-4e04826ee75e",
   "metadata": {},
   "outputs": [],
   "source": [
    "g = sns.catplot(data=ptrain, x=\"population\", y=\"region\", palette=\"husl\", kind=\"boxen\")\n",
    "g.fig.suptitle(\"Population by Region (Raw Data)\")\n",
    "plt.tight_layout()"
   ]
  },
  {
   "cell_type": "markdown",
   "id": "06def48c-890b-4c8e-8e45-3e519844ae39",
   "metadata": {},
   "source": [
    "#### There are significant outliers on the upper end in each region, which is skewing the data. Outliers were identified as being beyond 1.5*IQR and removed from the variable population by region as shown below."
   ]
  },
  {
   "cell_type": "markdown",
   "id": "f3f768ba-c721-4fdc-ba0a-afebb8c4a481",
   "metadata": {},
   "source": [
    "### Detect and recode outliers using IQR method (Geeks for Geeks, 2025)"
   ]
  },
  {
   "cell_type": "code",
   "execution_count": null,
   "id": "14ec457a-1321-4511-a214-20b1e779c914",
   "metadata": {},
   "outputs": [],
   "source": [
    "# Function to identify and remove outliers using IQR\n",
    "\n",
    "def remove_outliers_iqr(ptrain, columns):\n",
    "    for col in columns:\n",
    "        Q1 = ptrain[col].quantile(0.25)\n",
    "        Q3 = ptrain[col].quantile(0.75)\n",
    "        IQR = Q3 - Q1\n",
    "        lower_bound = Q1 - 1.5 * IQR\n",
    "        upper_bound = Q3 + 1.5 * IQR\n",
    "        \n",
    "        # Keep only values within the bounds\n",
    "        ptrain = ptrain[(ptrain[col] >= lower_bound) & (ptrain[col] <= upper_bound)]\n",
    "    \n",
    "    return ptrain\n",
    "    \n",
    "# List of numerical variables to check for outliers: population, amount_tsh and gps_height\n",
    "clean_columns = [\"population\", \"amount_tsh\", \"gps_height\"]\n",
    "ptrain_cleaned = remove_outliers_iqr(ptrain, clean_columns)\n",
    "\n",
    "# Apply outlier removal to each region\n",
    "print(ptrain_cleaned.describe())"
   ]
  },
  {
   "cell_type": "code",
   "execution_count": null,
   "id": "10bc857b-7ffd-41b0-937a-0bc5ca9023a9",
   "metadata": {},
   "outputs": [],
   "source": [
    "g = sns.catplot(data=ptrain_cleaned, x=\"population\", y=\"basin\", palette=\"husl\", kind=\"boxen\")\n",
    "g.fig.suptitle(\"Population by Basin After Outliers Removed\")\n",
    "plt.tight_layout()"
   ]
  },
  {
   "cell_type": "code",
   "execution_count": null,
   "id": "22aa60cd-4ed8-4f23-be3b-50f0f31b8b04",
   "metadata": {},
   "outputs": [],
   "source": [
    "sns.scatterplot(data=ptrain_cleaned, x=\"longitude\", y=\"latitude\")\n",
    "plt.title(\"Latitudes and Longitudes Raw Data\")\n",
    "plt.tight_layout()"
   ]
  },
  {
   "cell_type": "markdown",
   "id": "2d1d9098-883a-46bd-a5b1-e12194d86fee",
   "metadata": {},
   "source": [
    "## Adjust latitudes and longitudes to fit Tanzania"
   ]
  },
  {
   "cell_type": "code",
   "execution_count": null,
   "id": "edfb770a-4362-4d82-8d9c-cee81f73db92",
   "metadata": {},
   "outputs": [],
   "source": [
    "# Define valid ranges\n",
    "valid_lat_range = (-15, 5)\n",
    "valid_lon_range = (25, 42)\n",
    "\n",
    "# Filter outliers\n",
    "ptrain_cleaned = ptrain_cleaned[ptrain_cleaned['latitude'].between(*valid_lat_range) & ptrain_cleaned['longitude'].between(*valid_lon_range)]\n",
    "sns.scatterplot(data=ptrain_cleaned, x=\"longitude\", y=\"latitude\")\n",
    "plt.title(\"Adjusted Latitudes and Longitudes\")"
   ]
  },
  {
   "cell_type": "markdown",
   "id": "f2b8b592-7cde-49f6-b695-e0a516e95b03",
   "metadata": {},
   "source": [
    "## Create map of water pumps in Tanzania by functional status"
   ]
  },
  {
   "cell_type": "markdown",
   "id": "6327ea50-1afa-4012-9ec8-75730cc066c0",
   "metadata": {},
   "source": [
    "#### In order to create a map of the water pumps in Tanzania by function status, OpenAI's ChatGPT was queried to complete this task on March 28, 2025. The code below was generated entirely by ChatGPT and simply modified to fit this project's dataframe. (OpenAI, 2025)"
   ]
  },
  {
   "cell_type": "code",
   "execution_count": null,
   "id": "a5a7c705-c124-4c61-ab69-dd5f0c337b7f",
   "metadata": {},
   "outputs": [],
   "source": [
    "import pandas as pd\n",
    "import folium\n",
    "from folium.plugins import MarkerCluster\n",
    "from IPython.core.display import display, HTML\n",
    "display(HTML(\"<style>.container { width:100% !important; }</style>\"))\n",
    "\n",
    "# Load and filter data (ensure only Tanzania data)\n",
    "tanzania_bounds = {\n",
    "    \"lat_min\": -11.7, \"lat_max\": -0.9,\n",
    "    \"lon_min\": 29.2, \"lon_max\": 40.4\n",
    "}\n",
    "\n",
    "# Assuming 'ptrain_cleaned' is your DataFrame\n",
    "filtered_df = ptrain_cleaned[\n",
    "    (ptrain_cleaned[\"latitude\"].between(tanzania_bounds[\"lat_min\"], tanzania_bounds[\"lat_max\"])) &\n",
    "    (ptrain_cleaned[\"longitude\"].between(tanzania_bounds[\"lon_min\"], tanzania_bounds[\"lon_max\"]))\n",
    "]\n",
    "\n",
    "# Create a map centered on Tanzania with a smaller file size\n",
    "tanzania_map = folium.Map(\n",
    "    location=[-6.369028, 34.888822],\n",
    "    zoom_start=7,\n",
    "    tiles=\"CartoDB positron\"  # Lighter map to reduce file size\n",
    ")\n",
    "\n",
    "# Define colors for pump status\n",
    "status_colors = {\n",
    "    \"functional\": \"green\",\n",
    "    \"functional needs repair\": \"yellow\",\n",
    "    \"non functional\": \"red\"\n",
    "}\n",
    "\n",
    "# Add pump markers (without clustering for smaller size)\n",
    "for _, row in filtered_df.iterrows():\n",
    "    folium.CircleMarker(\n",
    "        location=[row[\"latitude\"], row[\"longitude\"]],\n",
    "        radius=3,  # Smaller marker to save space\n",
    "        color=status_colors.get(row[\"status_group\"], \"blue\"),\n",
    "        fill=True,\n",
    "        fill_color=status_colors.get(row[\"status_group\"], \"blue\"),\n",
    "        fill_opacity=0.5,  # Lower opacity for better visibility\n",
    "        popup=row[\"status_group\"]  # Smaller popup\n",
    "    ).add_to(tanzania_map)\n",
    "\n",
    "# Add a legend (this is a custom HTML/CSS legend)\n",
    "legend_html = \"\"\"\n",
    "<div style=\"position: fixed; bottom: 50px; left: 50px; width: 200px; height: 100px;\n",
    "background-color: white; z-index:9999; font-size:14px; padding: 10px; border-radius:5px;\">\n",
    "<b>Pump Status</b><br>\n",
    "<i class=\"fa fa-circle\" style=\"color:green\"></i> Functional<br>\n",
    "<i class=\"fa fa-circle\" style=\"color:orange\"></i> Functional Needs Repair<br>\n",
    "<i class=\"fa fa-circle\" style=\"color:red\"></i> Non Functional\n",
    "</div>\n",
    "\"\"\"\n",
    "tanzania_map.get_root().html.add_child(folium.Element(legend_html))\n",
    "tanzania_map"
   ]
  },
  {
   "cell_type": "markdown",
   "id": "d577146b-30f3-47ee-b92e-067e00bc1728",
   "metadata": {},
   "source": [
    "## Drop all unnecessary variables/features/attributes/columns"
   ]
  },
  {
   "cell_type": "code",
   "execution_count": null,
   "id": "2baba42f-a2ac-4906-8ff2-22cd3dc55639",
   "metadata": {
    "scrolled": true
   },
   "outputs": [],
   "source": [
    "ptrain_cleaned = ptrain_cleaned.drop(['scheme_name', 'month_recorded', 'district_code', 'region_code', 'public_meeting', 'permit', 'subvillage', 'wpt_name', 'num_private', 'region', 'lga', 'ward', 'recorded_by', 'extraction_type', 'extraction_type_class', 'management', 'management_group', 'payment_type', 'water_quality', 'quantity_group', 'source', 'source_class', 'waterpoint_type_group', 'id'], axis=1)\n",
    "ptrain_cleaned.info()"
   ]
  },
  {
   "cell_type": "markdown",
   "id": "d9000232-60b6-4df2-a523-b084ee519645",
   "metadata": {},
   "source": [
    "### References"
   ]
  },
  {
   "cell_type": "markdown",
   "id": "db1d9ec6-c19e-4446-bb33-dced10991665",
   "metadata": {},
   "source": [
    "Geeks for Geeks. (2025, Jan 2). *Detect and remove the outliers using Python.* Geeks for Geeks. [GeeksforGeeks](https://www.geeksforgeeks.org/detect-and-remove-the-outliers-using-python/)\n",
    " \n",
    "Kahn, R. (2020). Pump it up: Data mining the water table [Map]. GitHub. [Taarifa Pump Github](https://github.com/rkhan15/taarifa-pump)\n",
    "\n",
    "OpenAI. (2025). ChatGPT (Mar 26 version) [Large language model]. https://chat.openai.com/chat\n",
    "\n",
    "OpenAI. (2025). ChatGPT (Mar 28 version) [Large language model]. https://chat.openai.com/chat\n",
    "\n",
    "Waskom, M. (2024). *Visualizing categorical data.* Seaborn. [Seaborn visualizations](https://seaborn.pydata.org/tutorial/categorical.html)"
   ]
  },
  {
   "cell_type": "code",
   "execution_count": null,
   "id": "b580f307-3210-41d3-b4bd-13229a3f3ebc",
   "metadata": {},
   "outputs": [],
   "source": []
  }
 ],
 "metadata": {
  "kernelspec": {
   "display_name": "Python 3 (ipykernel)",
   "language": "python",
   "name": "python3"
  },
  "language_info": {
   "codemirror_mode": {
    "name": "ipython",
    "version": 3
   },
   "file_extension": ".py",
   "mimetype": "text/x-python",
   "name": "python",
   "nbconvert_exporter": "python",
   "pygments_lexer": "ipython3",
   "version": "3.12.7"
  }
 },
 "nbformat": 4,
 "nbformat_minor": 5
}
